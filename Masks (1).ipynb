{
  "nbformat": 4,
  "nbformat_minor": 0,
  "metadata": {
    "colab": {
      "private_outputs": true,
      "provenance": []
    },
    "kernelspec": {
      "name": "python3",
      "display_name": "Python 3"
    },
    "language_info": {
      "name": "python"
    }
  },
  "cells": [
    {
      "cell_type": "code",
      "source": [
        "import cv2\n",
        "import matplotlib.pyplot as plt"
      ],
      "metadata": {
        "id": "6AMJk7dFLpjz"
      },
      "execution_count": null,
      "outputs": []
    },
    {
      "cell_type": "code",
      "execution_count": null,
      "metadata": {
        "id": "oNPik0ytLPpG"
      },
      "outputs": [],
      "source": [
        "img = cv2.imread(\"cubo1.jpg\")\n",
        "plt.imshow(img)"
      ]
    },
    {
      "cell_type": "code",
      "source": [
        "#como OpenCV invierte los canales B y R es necesario convertir la imagen a otro espacio de color\n",
        "img = cv2.cvtColor(img, cv2.COLOR_BGR2RGB)\n",
        "plt.imshow(img)"
      ],
      "metadata": {
        "id": "6TCK8Zz-LUQT"
      },
      "execution_count": null,
      "outputs": []
    },
    {
      "cell_type": "code",
      "source": [
        "#ahora se convierte la imagen al espacio de color HSV\n",
        "img_hsv = cv2.cvtColor(img, cv2.COLOR_RGB2HSV)"
      ],
      "metadata": {
        "id": "FpLnTqU5LV7i"
      },
      "execution_count": null,
      "outputs": []
    },
    {
      "cell_type": "code",
      "source": [
        "#donde H está en el eje “x”, S en el eje “y”, y V = 255."
      ],
      "metadata": {
        "id": "Waf4poBGLXig"
      },
      "execution_count": null,
      "outputs": []
    },
    {
      "cell_type": "code",
      "source": [
        "#el umbral de naranja en HSV\n",
        "umbral_bajo = (5,100,100)\n",
        "umbral_alto = (30,255,255)\n",
        "\n",
        "#se hace mask y se filtra en la original\n",
        "mask = cv2.inRange(img_hsv, umbral_bajo, umbral_alto)\n",
        "res = cv2.bitwise_and(img, img, mask=mask)\n",
        "\n",
        "#resultados para el naranja\n",
        "plt.subplot(1, 2, 1)\n",
        "plt.imshow(mask, cmap=\"gray\")\n",
        "plt.subplot(1, 2, 2)\n",
        "plt.imshow(res)\n",
        "plt.show()"
      ],
      "metadata": {
        "id": "Df57f0vGLZC0"
      },
      "execution_count": null,
      "outputs": []
    },
    {
      "cell_type": "code",
      "source": [
        "#el umbral de azul en HSV\n",
        "umbral_bajo = (100,100,100)\n",
        "umbral_alto = (130,255,255)\n",
        "\n",
        "#se hace mask y se filtra en la original\n",
        "mask = cv2.inRange(img_hsv, umbral_bajo, umbral_alto)\n",
        "res = cv2.bitwise_and(img, img, mask=mask)\n",
        "\n",
        "#resultados para el azul\n",
        "plt.subplot(1, 2, 1)\n",
        "plt.imshow(mask, cmap=\"gray\")\n",
        "plt.subplot(1, 2, 2)\n",
        "plt.imshow(res)\n",
        "plt.show()"
      ],
      "metadata": {
        "id": "9Nr3JFCRLajp"
      },
      "execution_count": null,
      "outputs": []
    },
    {
      "cell_type": "code",
      "source": [
        "#el umbral de verde en HSV\n",
        "umbral_bajo = (50,100,100)\n",
        "umbral_alto = (80,255,255)\n",
        "\n",
        "#se hace mask y se filtra en la original\n",
        "mask = cv2.inRange(img_hsv, umbral_bajo, umbral_alto)\n",
        "res = cv2.bitwise_and(img, img, mask=mask)\n",
        "\n",
        "#resultados para el verde\n",
        "plt.subplot(1, 2, 1)\n",
        "plt.imshow(mask, cmap=\"gray\")\n",
        "plt.subplot(1, 2, 2)\n",
        "plt.imshow(res)\n",
        "plt.show()"
      ],
      "metadata": {
        "id": "mrMsJI9fLcO9"
      },
      "execution_count": null,
      "outputs": []
    },
    {
      "cell_type": "code",
      "source": [
        "#el umbral de amarillo en HSV\n",
        "umbral_bajo = (20,100,100)\n",
        "umbral_alto = (40,255,255)\n",
        "\n",
        "#se hace mask y se filtra en la original\n",
        "mask = cv2.inRange(img_hsv, umbral_bajo, umbral_alto)\n",
        "res = cv2.bitwise_and(img, img, mask=mask)\n",
        "\n",
        "#resultados para el amarillo\n",
        "plt.subplot(1, 2, 1)\n",
        "plt.imshow(mask, cmap=\"gray\")\n",
        "plt.subplot(1, 2, 2)\n",
        "plt.imshow(res)\n",
        "plt.show()"
      ],
      "metadata": {
        "id": "sgqVK9OZLeWu"
      },
      "execution_count": null,
      "outputs": []
    },
    {
      "cell_type": "code",
      "source": [
        "import matplotlib.pyplot as plt\n",
        "#ploteando todas las máscaras\n",
        "\n",
        "#naranja\n",
        "naranja_umbral_bajo = (5,100,100)\n",
        "naranja_umbral_alto = (30,255,255)\n",
        "naranja_mask = cv2.inRange(img_hsv, naranja_umbral_bajo, naranja_umbral_alto)\n",
        "naranja_res = cv2.bitwise_and(img, img, mask=naranja_mask)\n",
        "\n",
        "#azul\n",
        "azul_umbral_bajo = (100,100,100)\n",
        "azul_umbral_alto = (130,255,255)\n",
        "azul_mask = cv2.inRange(img_hsv, azul_umbral_bajo, azul_umbral_alto)\n",
        "azul_res = cv2.bitwise_and(img, img, mask=azul_mask)\n",
        "\n",
        "#verde\n",
        "verde_umbral_bajo = (50,100,100)\n",
        "verde_umbral_alto = (80,255,255)\n",
        "verde_mask = cv2.inRange(img_hsv, verde_umbral_bajo, verde_umbral_alto)\n",
        "verde_res = cv2.bitwise_and(img, img, mask=verde_mask)\n",
        "\n",
        "#amarillo\n",
        "amarillo_umbral_bajo = (20,100,100)\n",
        "amarillo_umbral_alto = (40,255,255)\n",
        "amarillo_mask = cv2.inRange(img_hsv, amarillo_umbral_bajo, amarillo_umbral_alto)\n",
        "amarillo_res = cv2.bitwise_and(img, img, mask=amarillo_mask)\n",
        "\n",
        "\n",
        "array = [naranja_res, azul_res, verde_res, amarillo_res]\n",
        "for i in array:\n",
        "  plt.imshow(i)\n",
        "  plt.show()"
      ],
      "metadata": {
        "id": "3eTmlwqAPSqv"
      },
      "execution_count": null,
      "outputs": []
    }
  ]
}